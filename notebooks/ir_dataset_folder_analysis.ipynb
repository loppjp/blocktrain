{
 "cells": [
  {
   "cell_type": "markdown",
   "id": "d1cabb30",
   "metadata": {},
   "source": [
    "# Dataset Exploration"
   ]
  },
  {
   "cell_type": "markdown",
   "id": "34e3e36d",
   "metadata": {},
   "source": [
    "This notebook will explore the content of a google-drive provided drone detection dataset. \n",
    "\n",
    "The focus will be on:\n",
    "- determining the number of training examples\n",
    "- determining a train / eval split strategy\n",
    "- determining a stable indexing strategy (because the dataset is relatively small)\n",
    "- getting image size and aspect ration information\n",
    "- determining a training example to target label mapping strategy"
   ]
  },
  {
   "cell_type": "markdown",
   "id": "add8cd8f",
   "metadata": {},
   "source": [
    "### Imports"
   ]
  },
  {
   "cell_type": "code",
   "execution_count": 62,
   "id": "bfd3440a",
   "metadata": {},
   "outputs": [],
   "source": [
    "from pathlib import Path\n",
    "from glob import glob\n",
    "from itertools import chain\n",
    "import json"
   ]
  },
  {
   "cell_type": "markdown",
   "id": "3f0b03b3",
   "metadata": {},
   "source": [
    "### Constants"
   ]
  },
  {
   "cell_type": "code",
   "execution_count": 43,
   "id": "9992b532",
   "metadata": {},
   "outputs": [],
   "source": [
    "DATASET_PATH = Path(\"/mnt/d/drone_data/training-data\")"
   ]
  },
  {
   "cell_type": "markdown",
   "id": "de8c01bd",
   "metadata": {},
   "source": [
    "### Top Level Structure"
   ]
  },
  {
   "cell_type": "code",
   "execution_count": 44,
   "id": "e2b97e18",
   "metadata": {},
   "outputs": [
    {
     "name": "stdout",
     "output_type": "stream",
     "text": [
      "The dataset is arranged into 18 folders\n"
     ]
    }
   ],
   "source": [
    "# the dataset is arranged into folders\n",
    "DATASET_FOLDERS = list(DATASET_PATH.glob(\"*_1\"))\n",
    "print(f\"The dataset is arranged into {len(DATASET_FOLDERS)} folders\")"
   ]
  },
  {
   "cell_type": "markdown",
   "id": "88109c48",
   "metadata": {},
   "source": [
    "### Folder Extension Analysis"
   ]
  },
  {
   "cell_type": "code",
   "execution_count": 59,
   "id": "5bd9f469",
   "metadata": {},
   "outputs": [
    {
     "name": "stdout",
     "output_type": "stream",
     "text": [
      "The file extensions in each folder are in the set: {'.json', '.png'}\n",
      "There are 18 dataset folders\n",
      "There are 13502 png files\n",
      "For each folder the count of .json files is in the set of {1}\n"
     ]
    }
   ],
   "source": [
    "# it looks like just .pngs and a .json for labels, confirm:\n",
    "\n",
    "print(f\"The file extensions in each folder are in the set: {set([x.suffixes[0] for x in (list(chain(*[list(x.glob('*')) for x in DATASET_FOLDERS])))])}\")\n",
    "print(f\"There are {len(DATASET_FOLDERS)} dataset folders\")\n",
    "print(f\"There are {len([x for x in (list(chain(*[list(x.glob('*')) for x in DATASET_FOLDERS]))) if x.name.endswith('.png')])} png files\")\n",
    "print(f\"For each folder the count of .json files is in the set of {set(len(list(x.glob('*.json'))) for x in DATASET_FOLDERS)}\")\n"
   ]
  },
  {
   "cell_type": "markdown",
   "id": "5323bbc2",
   "metadata": {},
   "source": [
    "### Folder image count distribution"
   ]
  },
  {
   "cell_type": "code",
   "execution_count": 98,
   "id": "179c4e31",
   "metadata": {},
   "outputs": [
    {
     "name": "stdout",
     "output_type": "stream",
     "text": [
      "Folder 11_1 has 487 images\n",
      "Folder 12_1 has 714 images\n",
      "Folder 15_1 has 619 images\n",
      "Folder 25_1 has 818 images\n",
      "Folder 27_1 has 646 images\n",
      "Folder 28_1 has 820 images\n",
      "Folder 33_1 has 790 images\n",
      "Folder 34_1 has 537 images\n",
      "Folder 35_1 has 666 images\n",
      "Folder 36_1 has 728 images\n",
      "Folder 38_1 has 730 images\n",
      "Folder 42_1 has 744 images\n",
      "Folder 43_1 has 679 images\n",
      "Folder 47_1 has 997 images\n",
      "Folder 53_1 has 604 images\n",
      "Folder 5_1 has 1630 images\n",
      "Folder 6_1 has 774 images\n",
      "Folder 7_1 has 519 images\n",
      "The number of images in each folder varies in length from a minimum of 487 to a maximum of 1630\n"
     ]
    }
   ],
   "source": [
    "for x in DATASET_FOLDERS:\n",
    "    print(f\"Folder {x.name} has {len(list(x.glob('*.png')))} images\")\n",
    "\n",
    "counts = [len(list(x.glob('*.png'))) for x in DATASET_FOLDERS]\n",
    "print(f\"The number of images in each folder varies in length from a minimum of {min(counts)} to a maximum of {max(counts)}\")\n"
   ]
  },
  {
   "cell_type": "markdown",
   "id": "40de1eb8",
   "metadata": {},
   "source": [
    "### Label Structure"
   ]
  },
  {
   "cell_type": "code",
   "execution_count": 93,
   "id": "a6789223",
   "metadata": {},
   "outputs": [
    {
     "name": "stdout",
     "output_type": "stream",
     "text": [
      "the .json file corresponding to /mnt/d/drone_data/training-data/11_1\n",
      "top level strucutre: 2\n",
      "types at the top level structure [<class 'str'>, <class 'str'>]\n",
      "values at the top level structure ['exist', 'gt_rect']\n",
      "the count of the exist items: 487\n",
      "the count of the gt_rect items: 487\n",
      "the value type of exist is: <class 'int'>\n",
      "existance is in the set: {0, 1}\n",
      "the value type of gt_rect is: <class 'list'>\n",
      "the lengths of gt_rect lists are in the set: {4}\n",
      "\n",
      "the .json file corresponding to /mnt/d/drone_data/training-data/12_1\n",
      "top level strucutre: 2\n",
      "types at the top level structure [<class 'str'>, <class 'str'>]\n",
      "values at the top level structure ['exist', 'gt_rect']\n",
      "the count of the exist items: 714\n",
      "the count of the gt_rect items: 714\n",
      "the value type of exist is: <class 'int'>\n",
      "existance is in the set: {0, 1}\n",
      "the value type of gt_rect is: <class 'list'>\n",
      "the lengths of gt_rect lists are in the set: {4}\n",
      "\n",
      "the .json file corresponding to /mnt/d/drone_data/training-data/15_1\n",
      "top level strucutre: 2\n",
      "types at the top level structure [<class 'str'>, <class 'str'>]\n",
      "values at the top level structure ['exist', 'gt_rect']\n",
      "the count of the exist items: 619\n",
      "the count of the gt_rect items: 619\n",
      "the value type of exist is: <class 'int'>\n",
      "existance is in the set: {0, 1}\n",
      "the value type of gt_rect is: <class 'list'>\n",
      "the lengths of gt_rect lists are in the set: {4}\n",
      "\n",
      "the .json file corresponding to /mnt/d/drone_data/training-data/25_1\n",
      "top level strucutre: 2\n",
      "types at the top level structure [<class 'str'>, <class 'str'>]\n",
      "values at the top level structure ['exist', 'gt_rect']\n",
      "the count of the exist items: 818\n",
      "the count of the gt_rect items: 818\n",
      "the value type of exist is: <class 'int'>\n",
      "existance is in the set: {0, 1}\n",
      "the value type of gt_rect is: <class 'list'>\n",
      "the lengths of gt_rect lists are in the set: {4}\n",
      "\n",
      "the .json file corresponding to /mnt/d/drone_data/training-data/27_1\n",
      "top level strucutre: 2\n",
      "types at the top level structure [<class 'str'>, <class 'str'>]\n",
      "values at the top level structure ['exist', 'gt_rect']\n",
      "the count of the exist items: 646\n",
      "the count of the gt_rect items: 646\n",
      "the value type of exist is: <class 'int'>\n",
      "existance is in the set: {0, 1}\n",
      "the value type of gt_rect is: <class 'list'>\n",
      "the lengths of gt_rect lists are in the set: {4}\n",
      "\n",
      "the .json file corresponding to /mnt/d/drone_data/training-data/28_1\n",
      "top level strucutre: 2\n",
      "types at the top level structure [<class 'str'>, <class 'str'>]\n",
      "values at the top level structure ['exist', 'gt_rect']\n",
      "the count of the exist items: 820\n",
      "the count of the gt_rect items: 820\n",
      "the value type of exist is: <class 'int'>\n",
      "existance is in the set: {0, 1}\n",
      "the value type of gt_rect is: <class 'list'>\n",
      "the lengths of gt_rect lists are in the set: {4}\n",
      "\n",
      "the .json file corresponding to /mnt/d/drone_data/training-data/33_1\n",
      "top level strucutre: 2\n",
      "types at the top level structure [<class 'str'>, <class 'str'>]\n",
      "values at the top level structure ['exist', 'gt_rect']\n",
      "the count of the exist items: 790\n",
      "the count of the gt_rect items: 790\n",
      "the value type of exist is: <class 'int'>\n",
      "existance is in the set: {0, 1}\n",
      "the value type of gt_rect is: <class 'list'>\n",
      "the lengths of gt_rect lists are in the set: {4}\n",
      "\n",
      "the .json file corresponding to /mnt/d/drone_data/training-data/34_1\n",
      "top level strucutre: 2\n",
      "types at the top level structure [<class 'str'>, <class 'str'>]\n",
      "values at the top level structure ['exist', 'gt_rect']\n",
      "the count of the exist items: 537\n",
      "the count of the gt_rect items: 537\n",
      "the value type of exist is: <class 'int'>\n",
      "existance is in the set: {0, 1}\n",
      "the value type of gt_rect is: <class 'list'>\n",
      "the lengths of gt_rect lists are in the set: {4}\n",
      "\n",
      "the .json file corresponding to /mnt/d/drone_data/training-data/35_1\n",
      "top level strucutre: 2\n",
      "types at the top level structure [<class 'str'>, <class 'str'>]\n",
      "values at the top level structure ['exist', 'gt_rect']\n",
      "the count of the exist items: 666\n",
      "the count of the gt_rect items: 666\n",
      "the value type of exist is: <class 'int'>\n",
      "existance is in the set: {1}\n",
      "the value type of gt_rect is: <class 'list'>\n",
      "the lengths of gt_rect lists are in the set: {4}\n",
      "\n",
      "the .json file corresponding to /mnt/d/drone_data/training-data/36_1\n",
      "top level strucutre: 2\n",
      "types at the top level structure [<class 'str'>, <class 'str'>]\n",
      "values at the top level structure ['exist', 'gt_rect']\n",
      "the count of the exist items: 728\n",
      "the count of the gt_rect items: 728\n",
      "the value type of exist is: <class 'int'>\n",
      "existance is in the set: {0, 1}\n",
      "the value type of gt_rect is: <class 'list'>\n",
      "the lengths of gt_rect lists are in the set: {4}\n",
      "\n",
      "the .json file corresponding to /mnt/d/drone_data/training-data/38_1\n",
      "top level strucutre: 2\n",
      "types at the top level structure [<class 'str'>, <class 'str'>]\n",
      "values at the top level structure ['exist', 'gt_rect']\n",
      "the count of the exist items: 730\n",
      "the count of the gt_rect items: 730\n",
      "the value type of exist is: <class 'int'>\n",
      "existance is in the set: {0, 1}\n",
      "the value type of gt_rect is: <class 'list'>\n",
      "the lengths of gt_rect lists are in the set: {4}\n",
      "\n",
      "the .json file corresponding to /mnt/d/drone_data/training-data/42_1\n",
      "top level strucutre: 2\n",
      "types at the top level structure [<class 'str'>, <class 'str'>]\n",
      "values at the top level structure ['exist', 'gt_rect']\n",
      "the count of the exist items: 744\n",
      "the count of the gt_rect items: 744\n",
      "the value type of exist is: <class 'int'>\n",
      "existance is in the set: {0, 1}\n",
      "the value type of gt_rect is: <class 'list'>\n",
      "the lengths of gt_rect lists are in the set: {4}\n",
      "\n",
      "the .json file corresponding to /mnt/d/drone_data/training-data/43_1\n",
      "top level strucutre: 2\n",
      "types at the top level structure [<class 'str'>, <class 'str'>]\n",
      "values at the top level structure ['exist', 'gt_rect']\n",
      "the count of the exist items: 679\n",
      "the count of the gt_rect items: 679\n",
      "the value type of exist is: <class 'int'>\n",
      "existance is in the set: {0, 1}\n",
      "the value type of gt_rect is: <class 'list'>\n",
      "the lengths of gt_rect lists are in the set: {4}\n",
      "\n",
      "the .json file corresponding to /mnt/d/drone_data/training-data/47_1\n",
      "top level strucutre: 2\n",
      "types at the top level structure [<class 'str'>, <class 'str'>]\n",
      "values at the top level structure ['exist', 'gt_rect']\n",
      "the count of the exist items: 997\n",
      "the count of the gt_rect items: 997\n",
      "the value type of exist is: <class 'int'>\n",
      "existance is in the set: {0, 1}\n",
      "the value type of gt_rect is: <class 'list'>\n",
      "the lengths of gt_rect lists are in the set: {4}\n",
      "\n",
      "the .json file corresponding to /mnt/d/drone_data/training-data/53_1\n",
      "top level strucutre: 2\n",
      "types at the top level structure [<class 'str'>, <class 'str'>]\n",
      "values at the top level structure ['exist', 'gt_rect']\n",
      "the count of the exist items: 604\n",
      "the count of the gt_rect items: 604\n",
      "the value type of exist is: <class 'int'>\n",
      "existance is in the set: {0, 1}\n",
      "the value type of gt_rect is: <class 'list'>\n",
      "the lengths of gt_rect lists are in the set: {4}\n",
      "\n",
      "the .json file corresponding to /mnt/d/drone_data/training-data/5_1\n",
      "top level strucutre: 2\n",
      "types at the top level structure [<class 'str'>, <class 'str'>]\n",
      "values at the top level structure ['exist', 'gt_rect']\n",
      "the count of the exist items: 1630\n",
      "the count of the gt_rect items: 1630\n",
      "the value type of exist is: <class 'int'>\n",
      "existance is in the set: {0, 1}\n",
      "the value type of gt_rect is: <class 'list'>\n",
      "the lengths of gt_rect lists are in the set: {4}\n",
      "\n",
      "the .json file corresponding to /mnt/d/drone_data/training-data/6_1\n",
      "top level strucutre: 2\n",
      "types at the top level structure [<class 'str'>, <class 'str'>]\n",
      "values at the top level structure ['exist', 'gt_rect']\n",
      "the count of the exist items: 774\n",
      "the count of the gt_rect items: 774\n",
      "the value type of exist is: <class 'int'>\n",
      "existance is in the set: {0, 1}\n",
      "the value type of gt_rect is: <class 'list'>\n",
      "the lengths of gt_rect lists are in the set: {4}\n",
      "\n",
      "the .json file corresponding to /mnt/d/drone_data/training-data/7_1\n",
      "top level strucutre: 2\n",
      "types at the top level structure [<class 'str'>, <class 'str'>]\n",
      "values at the top level structure ['exist', 'gt_rect']\n",
      "the count of the exist items: 519\n",
      "the count of the gt_rect items: 519\n",
      "the value type of exist is: <class 'int'>\n",
      "existance is in the set: {0, 1}\n",
      "the value type of gt_rect is: <class 'list'>\n",
      "the lengths of gt_rect lists are in the set: {4}\n",
      "\n"
     ]
    }
   ],
   "source": [
    "def analyze_label_folder(folder):\n",
    "    print(f\"the .json file corresponding to {folder}\")\n",
    "    labels = json.load(list(folder.glob(\"*.json\"))[0].open())\n",
    "    print(f\"top level strucutre: {len(labels)}\")\n",
    "    print(f\"types at the top level structure {[type(x) for x in labels]}\")\n",
    "    print(f\"values at the top level structure {[x for x in labels]}\")\n",
    "    print(f\"the count of the exist items: {len(labels[\"exist\"])}\")\n",
    "    print(f\"the count of the gt_rect items: {len(labels[\"gt_rect\"])}\")\n",
    "\n",
    "    print(f\"the value type of exist is: {type(labels[\"exist\"][0])}\")\n",
    "    print(f\"existance is in the set: {set([x for x in (labels[\"exist\"])])}\")\n",
    "\n",
    "    print(f\"the value type of gt_rect is: {type(labels[\"gt_rect\"][0])}\")\n",
    "    print(f\"the lengths of gt_rect lists are in the set: {set([len(x) for x in labels[\"gt_rect\"]])}\")\n",
    "\n",
    "for folder in DATASET_FOLDERS:\n",
    "    analyze_label_folder(folder)\n",
    "    print(\"\")"
   ]
  },
  {
   "cell_type": "code",
   "execution_count": null,
   "id": "40b8edf1",
   "metadata": {},
   "outputs": [],
   "source": []
  }
 ],
 "metadata": {
  "kernelspec": {
   "display_name": "env",
   "language": "python",
   "name": "python3"
  },
  "language_info": {
   "codemirror_mode": {
    "name": "ipython",
    "version": 3
   },
   "file_extension": ".py",
   "mimetype": "text/x-python",
   "name": "python",
   "nbconvert_exporter": "python",
   "pygments_lexer": "ipython3",
   "version": "3.12.1"
  }
 },
 "nbformat": 4,
 "nbformat_minor": 5
}
