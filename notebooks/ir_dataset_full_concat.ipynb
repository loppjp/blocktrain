{
 "cells": [
  {
   "cell_type": "markdown",
   "id": "7cccd26b",
   "metadata": {},
   "source": [
    "# Train Eval Test Split"
   ]
  },
  {
   "cell_type": "markdown",
   "id": "826993a8",
   "metadata": {},
   "source": [
    "Leverage torch datasets to concatonate all folder based datasets for the purpose of train/eval/test splitting\n",
    "\n",
    "Per decision log entry \"Data Analysis Training Split\" we prefer static "
   ]
  },
  {
   "cell_type": "code",
   "execution_count": 1,
   "id": "e4c71d0e",
   "metadata": {},
   "outputs": [],
   "source": [
    "from pathlib import Path\n",
    "import json\n",
    "\n",
    "import torch\n",
    "from torch.utils.data import (\n",
    "    ConcatDataset,\n",
    "    Dataset,\n",
    "    random_split,\n",
    ")\n",
    "\n",
    "from blocktrain.datasets.ir_folder_image_file_system_dataset import (\n",
    "    FolderImageFileSystemDataset,\n",
    ")\n",
    "import blocktrain"
   ]
  },
  {
   "cell_type": "code",
   "execution_count": 2,
   "id": "7221df7e",
   "metadata": {},
   "outputs": [],
   "source": [
    "SEED = 123\n",
    "DATASET_PATH = Path(\"/mnt/d/drone_data/training-data\")\n",
    "SPLITS = [0.60, 0.20, 0.20]"
   ]
  },
  {
   "cell_type": "code",
   "execution_count": 3,
   "id": "8e839ecc",
   "metadata": {},
   "outputs": [],
   "source": [
    "folder_datasets: list[Dataset] = [\n",
    "\n",
    "    # note hardcoded[0]th index is because we expect 1 \n",
    "    FolderImageFileSystemDataset(list(dataset_folder.glob(\"*.json\"))[0], dataset_folder)\n",
    "\n",
    "    for dataset_folder in list(DATASET_PATH.glob(\"*_1\"))\n",
    "]\n",
    "\n",
    "# concatonate all datasets into a single dataset with all training examples\n",
    "concat_dataset = ConcatDataset(folder_datasets)"
   ]
  },
  {
   "cell_type": "code",
   "execution_count": 4,
   "id": "a3bdf149",
   "metadata": {},
   "outputs": [
    {
     "name": "stdout",
     "output_type": "stream",
     "text": [
      "There are 13502 training examples in the entire dataset before plitting\n"
     ]
    }
   ],
   "source": [
    "print(f\"There are {len(concat_dataset)} training examples in the entire dataset before plitting\")"
   ]
  },
  {
   "cell_type": "code",
   "execution_count": 5,
   "id": "8a8304e6",
   "metadata": {},
   "outputs": [],
   "source": [
    "generator = torch.Generator().manual_seed(SEED)\n",
    "\n",
    "DATASET_INDEX_LIST: dict[str, list[int]] = dict(zip(\n",
    "    [\"train_indicies\", \"eval_indicies\", \"test_indicies\"], \n",
    "    random_split(range(len(concat_dataset)), SPLITS, generator=generator)\n",
    "))"
   ]
  },
  {
   "cell_type": "markdown",
   "id": "936ff7e4",
   "metadata": {},
   "source": [
    "Save dataset indicies in a stable way"
   ]
  },
  {
   "cell_type": "code",
   "execution_count": 6,
   "id": "528ef7fe",
   "metadata": {},
   "outputs": [],
   "source": [
    "data_folder = Path(blocktrain.__file__).parent.parent.parent/\"data\"\n",
    "for key in DATASET_INDEX_LIST:\n",
    "    json.dump(list(DATASET_INDEX_LIST[key]), (data_folder/f\"{key}.json\").open('w'))"
   ]
  },
  {
   "cell_type": "code",
   "execution_count": 7,
   "id": "e85090db",
   "metadata": {},
   "outputs": [
    {
     "name": "stdout",
     "output_type": "stream",
     "text": [
      "the train/eval/test datasets have 8102/2700/2700 respectively images\n"
     ]
    }
   ],
   "source": [
    "print(f\"the train/eval/test datasets have {len(DATASET_INDEX_LIST[\"train_indicies\"])}/{len(DATASET_INDEX_LIST[\"eval_indicies\"])}/{len(DATASET_INDEX_LIST[\"test_indicies\"])} respectively images\")"
   ]
  }
 ],
 "metadata": {
  "kernelspec": {
   "display_name": "env",
   "language": "python",
   "name": "python3"
  },
  "language_info": {
   "codemirror_mode": {
    "name": "ipython",
    "version": 3
   },
   "file_extension": ".py",
   "mimetype": "text/x-python",
   "name": "python",
   "nbconvert_exporter": "python",
   "pygments_lexer": "ipython3",
   "version": "3.12.1"
  }
 },
 "nbformat": 4,
 "nbformat_minor": 5
}
