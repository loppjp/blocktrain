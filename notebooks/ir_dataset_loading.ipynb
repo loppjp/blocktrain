{
 "cells": [
  {
   "cell_type": "markdown",
   "id": "4d1e2dec",
   "metadata": {},
   "source": [
    "# Dataset Loading"
   ]
  },
  {
   "cell_type": "markdown",
   "id": "6cbf8fce",
   "metadata": {},
   "source": [
    "This notebook will support interactive development of the dataset loading mechanisms\n",
    "\n",
    "The focus on interactive development of torch Datasets concerned with loading images from disk and transforimng them into the desired represntation"
   ]
  },
  {
   "cell_type": "code",
   "execution_count": 1,
   "id": "1e1d580a",
   "metadata": {},
   "outputs": [],
   "source": [
    "from pathlib import Path\n",
    "\n",
    "import numpy as np\n",
    "\n",
    "from blocktrain.datasets.ir_folder_image_file_system_dataset import FolderImageFileSystemDataset\n",
    "from blocktrain.datasets.ir_ram_dataset import FolderImageRAMDataset"
   ]
  },
  {
   "cell_type": "code",
   "execution_count": 2,
   "id": "00e5d9bf",
   "metadata": {},
   "outputs": [],
   "source": [
    "DATASET_PATH = Path(\"/mnt/d/drone_data/training-data\")\n",
    "\n",
    "# arbitrarily pick the first dataset folder for testing within this notebook\n",
    "DATASET_FOLDER = list(DATASET_PATH.glob(\"*\"))[0]"
   ]
  },
  {
   "cell_type": "code",
   "execution_count": 3,
   "id": "ddbb2612",
   "metadata": {},
   "outputs": [],
   "source": [
    "fifs_dataset = FolderImageFileSystemDataset(\n",
    "    list(DATASET_FOLDER.glob(\"*.json\"))[0],\n",
    "    DATASET_FOLDER\n",
    ")"
   ]
  },
  {
   "cell_type": "code",
   "execution_count": 4,
   "id": "59d4a9b3",
   "metadata": {},
   "outputs": [
    {
     "name": "stdout",
     "output_type": "stream",
     "text": [
      "this dataset has 487 images\n"
     ]
    }
   ],
   "source": [
    "print(f\"this dataset has {len(fifs_dataset)} images\")"
   ]
  },
  {
   "cell_type": "code",
   "execution_count": 5,
   "id": "baeccb7d",
   "metadata": {},
   "outputs": [],
   "source": [
    "x = fifs_dataset[0]"
   ]
  },
  {
   "cell_type": "code",
   "execution_count": 6,
   "id": "2e1d9d2f",
   "metadata": {},
   "outputs": [
    {
     "name": "stderr",
     "output_type": "stream",
     "text": [
      "/tmp/ipykernel_2954016/3103142048.py:1: DeprecationWarning: __array__ implementation doesn't accept a copy keyword, so passing copy=False failed. __array__ must implement 'dtype' and 'copy' keyword arguments. To learn more, see the migration guide https://numpy.org/devdocs/numpy_2_0_migration_guide.html#adapting-to-changes-in-the-copy-keyword\n",
      "  x_arr = np.array(x[0])\n"
     ]
    }
   ],
   "source": [
    "x_arr = np.array(x[0])"
   ]
  },
  {
   "cell_type": "code",
   "execution_count": 7,
   "id": "d04b293c",
   "metadata": {},
   "outputs": [
    {
     "data": {
      "text/plain": [
       "(512, 512, 3)"
      ]
     },
     "execution_count": 7,
     "metadata": {},
     "output_type": "execute_result"
    }
   ],
   "source": [
    "x_arr.shape"
   ]
  },
  {
   "cell_type": "code",
   "execution_count": null,
   "id": "859183b5",
   "metadata": {},
   "outputs": [],
   "source": [
    "fir_dataset = FolderImageRAMDataset(\n",
    "    list(DATASET_FOLDER.glob(\"*.json\"))[0],\n",
    "    DATASET_FOLDER\n",
    ")"
   ]
  },
  {
   "cell_type": "code",
   "execution_count": null,
   "id": "80b95e7b",
   "metadata": {},
   "outputs": [],
   "source": [
    "X, y = fir_dataset[0]"
   ]
  },
  {
   "cell_type": "code",
   "execution_count": null,
   "id": "2f92f918",
   "metadata": {},
   "outputs": [
    {
     "name": "stdout",
     "output_type": "stream",
     "text": [
      "examples are torch tensors that are actually tensors of shape: torch.Size([512, 512, 3])\n",
      "labels are torch tensors that are actually vectors of shape: torch.Size([5])\n"
     ]
    }
   ],
   "source": [
    "print(f\"examples are torch tensors that are actually tensors of shape: {X.shape}\")\n",
    "print(f\"labels are torch tensors that are actually vectors of shape: {y.shape}\")"
   ]
  },
  {
   "cell_type": "code",
   "execution_count": null,
   "id": "c642cc4f",
   "metadata": {},
   "outputs": [],
   "source": []
  }
 ],
 "metadata": {
  "kernelspec": {
   "display_name": "env",
   "language": "python",
   "name": "python3"
  },
  "language_info": {
   "codemirror_mode": {
    "name": "ipython",
    "version": 3
   },
   "file_extension": ".py",
   "mimetype": "text/x-python",
   "name": "python",
   "nbconvert_exporter": "python",
   "pygments_lexer": "ipython3",
   "version": "3.12.1"
  }
 },
 "nbformat": 4,
 "nbformat_minor": 5
}
